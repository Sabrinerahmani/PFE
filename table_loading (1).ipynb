{
 "cells": [
  {
   "cell_type": "code",
   "execution_count": 12,
   "id": "c2b35179",
   "metadata": {},
   "outputs": [],
   "source": [
    "import numpy as np\n",
    "import pandas as pd\n",
    "import pyodbc\n",
    "def load_df_to_sql_server_windows_auth(df, table_name, server, database, if_exists='replace'):\n",
    "    conn_str = f'DRIVER={{ODBC Driver 17 for SQL Server}};' \\\n",
    "               f'SERVER={server};DATABASE={database};Trusted_Connection=yes;'\n",
    "\n",
    "    conn = pyodbc.connect(conn_str)\n",
    "    cursor = conn.cursor()\n",
    "\n",
    "    if if_exists == 'replace':\n",
    "        cursor.execute(f\"IF OBJECT_ID('{table_name}', 'U') IS NOT NULL DROP TABLE {table_name}\")\n",
    "        conn.commit()\n",
    "        col_defs = ', '.join(f\"[{col}] NVARCHAR(MAX)\" for col in df.columns)\n",
    "        cursor.execute(f\"CREATE TABLE {table_name} ({col_defs})\")\n",
    "        conn.commit()\n",
    "\n",
    "    # Replace problematic values (e.g., NaN, inf) with None\n",
    "    df_clean = df.replace({np.nan: None, np.inf: None, -np.inf: None})\n",
    "\n",
    "    placeholders = ', '.join('?' for _ in df.columns)\n",
    "    columns = ', '.join(f\"[{col}]\" for col in df.columns)\n",
    "    sql = f\"INSERT INTO {table_name} ({columns}) VALUES ({placeholders})\"\n",
    "\n",
    "    for row in df_clean.itertuples(index=False, name=None):\n",
    "        try:\n",
    "            cursor.execute(sql, row)\n",
    "        except Exception as e:\n",
    "            print(f\"❌ Error inserting row: {row}\\n{e}\")\n",
    "\n",
    "    conn.commit()\n",
    "    cursor.close()\n",
    "    conn.close()\n",
    "    print(f\"✅ Data inserted into '{table_name}' successfully.\")\n",
    "\n"
   ]
  },
  {
   "cell_type": "code",
   "execution_count": 2,
   "id": "c2a2eef2",
   "metadata": {},
   "outputs": [],
   "source": [
    "#db setup \n",
    "server = 'ALI-PY'  # Change as needed\n",
    "database = 'rahmani'"
   ]
  },
  {
   "cell_type": "markdown",
   "id": "7ec28171",
   "metadata": {},
   "source": [
    "### **Loading Production Data**"
   ]
  },
  {
   "cell_type": "code",
   "execution_count": 3,
   "id": "ef71acd0",
   "metadata": {},
   "outputs": [],
   "source": [
    "dim_date = pd.read_excel('tables/dim_date.xlsx')\n",
    "dim_downtime =  pd.read_excel('tables/dim_downtime.xlsx')\n",
    "dim_event_details =  pd.read_excel('tables/dim_event_details.xlsx')\n",
    "dim_group =  pd.read_excel('tables/dim_group.xlsx')\n",
    "dim_leader =  pd.read_excel('tables/dim_leader.xlsx')\n",
    "dim_product =  pd.read_excel('tables/dim_product.xlsx')\n",
    "dim_waste =  pd.read_excel('tables/dim_wate_declare.xlsx')\n",
    "dim_manifact_event = pd.read_excel('tables/dim_manifact_event.xlsx')\n",
    "\n",
    "tables_prod = [\n",
    "    ('dbo.dim_date1', dim_date),\n",
    "    ('dbo.dim_downtime', dim_downtime),\n",
    "    ('dbo.dim_event_details', dim_event_details),\n",
    "    ('dbo.dim_group', dim_group),\n",
    "    ('dbo.dim_leader', dim_leader),\n",
    "    ('dbo.dim_product', dim_product),\n",
    "    ('dbo.dim_waste', dim_waste),\n",
    "    ('dbo.dim_manifact_event', dim_manifact_event),\n",
    "]"
   ]
  },
  {
   "cell_type": "code",
   "execution_count": 4,
   "id": "8ac385cf",
   "metadata": {},
   "outputs": [
    {
     "name": "stdout",
     "output_type": "stream",
     "text": [
      "✅ Data inserted into 'dbo.dim_date1' successfully.\n",
      "✅ Data inserted into 'dbo.dim_downtime' successfully.\n",
      "✅ Data inserted into 'dbo.dim_event_details' successfully.\n",
      "✅ Data inserted into 'dbo.dim_group' successfully.\n",
      "✅ Data inserted into 'dbo.dim_leader' successfully.\n",
      "✅ Data inserted into 'dbo.dim_product' successfully.\n",
      "✅ Data inserted into 'dbo.dim_waste' successfully.\n",
      "✅ Data inserted into 'dbo.dim_manifact_event' successfully.\n"
     ]
    }
   ],
   "source": [
    "for table_name, df in tables_prod:\n",
    "    load_df_to_sql_server_windows_auth(df, table_name, server, database, if_exists='replace')"
   ]
  },
  {
   "cell_type": "code",
   "execution_count": 5,
   "id": "9d4e3a27",
   "metadata": {},
   "outputs": [],
   "source": [
    "fact_prod = pd.read_excel('tables/fact_prod_.xlsx')\n",
    "fact_waste = pd.read_excel('tables/fact_waste_.xlsx')\n",
    "fact_downtime = pd.read_excel('tables/fact_downtime_.xlsx')\n",
    "\n",
    "tables_prod_fact = [\n",
    "    ('dbo.fact_prod', fact_prod),\n",
    "    ('dbo.fact_waste', fact_waste),\n",
    "    ('dbo.fact_downtime', fact_downtime)\n",
    "]"
   ]
  },
  {
   "cell_type": "code",
   "execution_count": 9,
   "id": "768595d0",
   "metadata": {},
   "outputs": [
    {
     "name": "stdout",
     "output_type": "stream",
     "text": [
      "✅ Data inserted into 'dbo.fact_prod' successfully.\n",
      "✅ Data inserted into 'dbo.fact_waste' successfully.\n",
      "✅ Data inserted into 'dbo.fact_downtime' successfully.\n"
     ]
    }
   ],
   "source": [
    "for table_name, df in tables_prod_fact:\n",
    "    load_df_to_sql_server_windows_auth(df, table_name, server, database, if_exists='replace')"
   ]
  },
  {
   "cell_type": "markdown",
   "id": "7f9dc7d9",
   "metadata": {},
   "source": [
    "### **Perchasing Data Loading**"
   ]
  },
  {
   "cell_type": "code",
   "execution_count": 16,
   "id": "e48b54bd",
   "metadata": {},
   "outputs": [],
   "source": [
    "dim_datePurchasing= pd.read_excel('table_purchasing/dim_datePurchasing.xlsx')\n",
    "dim_fournisseur =  pd.read_excel('table_purchasing/dim_fournisseur.xlsx')\n",
    "dim_location =  pd.read_excel('table_purchasing/dim_location.xlsx')\n",
    "dim_materialPurchasing =  pd.read_excel('table_purchasing/dim_materialPuchasing.xlsx')\n",
    "fact_perchasing =  pd.read_excel('table_purchasing/fact_perchasing.xlsx')\n",
    "\n",
    "\n",
    "tables_prod = [\n",
    "    ('dbo.dim_datePurchasing', dim_datePurchasing),\n",
    "    ('dbo.dim_fournisseur', dim_fournisseur),\n",
    "    ('dbo.dim_location', dim_location),\n",
    "    ('dbo.dim_materialPurchasing', dim_materialPurchasing),\n",
    "    ('dbo.fact_perchasing', fact_perchasing)\n",
    "]"
   ]
  },
  {
   "cell_type": "code",
   "execution_count": 17,
   "id": "891ee8af",
   "metadata": {},
   "outputs": [],
   "source": [
    "tables_purchasing = [\n",
    "    ('dbo.dim_datePurchasing', dim_datePurchasing),\n",
    "    ('dbo.dim_fournisseur', dim_fournisseur),\n",
    "    ('dbo.dim_location', dim_location),\n",
    "    ('dbo.dim_materialPurchasing', dim_materialPurchasing),\n",
    "    ('dbo.fact_perchasing', fact_perchasing)\n",
    "]"
   ]
  },
  {
   "cell_type": "code",
   "execution_count": 18,
   "id": "71793234",
   "metadata": {},
   "outputs": [
    {
     "name": "stdout",
     "output_type": "stream",
     "text": [
      "✅ Data inserted into 'dbo.dim_datePurchasing' successfully.\n",
      "✅ Data inserted into 'dbo.dim_fournisseur' successfully.\n",
      "✅ Data inserted into 'dbo.dim_location' successfully.\n",
      "✅ Data inserted into 'dbo.dim_materialPurchasing' successfully.\n",
      "✅ Data inserted into 'dbo.fact_perchasing' successfully.\n"
     ]
    }
   ],
   "source": [
    "for table_name, df in tables_purchasing:\n",
    "    load_df_to_sql_server_windows_auth(df, table_name, server, database, if_exists='replace')"
   ]
  },
  {
   "cell_type": "markdown",
   "id": "1325e879",
   "metadata": {},
   "source": [
    "### **Stock data table Loading**"
   ]
  },
  {
   "cell_type": "code",
   "execution_count": 22,
   "id": "0f5431fe",
   "metadata": {},
   "outputs": [],
   "source": [
    "dim_dateStock = pd.read_excel('table_stock/dim_dateStock.xlsx')\n",
    "dim_rawmaterialStock = pd.read_excel('table_stock/dim_rawmaterialStock.xlsx')\n",
    "fact_stock = pd.read_excel('table_stock/fact_stock.xlsx')\n",
    "\n",
    "tables_stock = [\n",
    "    ('dbo.dim_dateStock', dim_dateStock),\n",
    "    ('dbo.dim_rawmaterialStock',dim_rawmaterialStock),\n",
    "    ('dbo.fact_stock', fact_stock)\n",
    "]"
   ]
  },
  {
   "cell_type": "code",
   "execution_count": 23,
   "id": "d88cc443",
   "metadata": {},
   "outputs": [
    {
     "name": "stdout",
     "output_type": "stream",
     "text": [
      "✅ Data inserted into 'dbo.dim_dateStock' successfully.\n",
      "✅ Data inserted into 'dbo.dim_rawmaterialStock' successfully.\n",
      "✅ Data inserted into 'dbo.fact_stock' successfully.\n"
     ]
    }
   ],
   "source": [
    "for table_name, df in tables_stock:\n",
    "    load_df_to_sql_server_windows_auth(df, table_name, server, database, if_exists='replace')"
   ]
  },
  {
   "cell_type": "code",
   "execution_count": null,
   "id": "1097a2cd",
   "metadata": {},
   "outputs": [],
   "source": []
  }
 ],
 "metadata": {
  "kernelspec": {
   "display_name": "Python 3",
   "language": "python",
   "name": "python3"
  },
  "language_info": {
   "codemirror_mode": {
    "name": "ipython",
    "version": 3
   },
   "file_extension": ".py",
   "mimetype": "text/x-python",
   "name": "python",
   "nbconvert_exporter": "python",
   "pygments_lexer": "ipython3",
   "version": "3.12.5"
  }
 },
 "nbformat": 4,
 "nbformat_minor": 5
}
