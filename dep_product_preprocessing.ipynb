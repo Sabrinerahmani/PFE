{
 "cells": [
  {
   "cell_type": "code",
   "execution_count": 1,
   "id": "e6f8f4bc",
   "metadata": {},
   "outputs": [],
   "source": [
    "import pandas as pd \n",
    "import numpy as np \n",
    "import uuid"
   ]
  },
  {
   "cell_type": "markdown",
   "id": "beebb9cc",
   "metadata": {},
   "source": [
    "This function is responsible for generating (export) excel files"
   ]
  },
  {
   "cell_type": "code",
   "execution_count": 2,
   "id": "3a555628",
   "metadata": {},
   "outputs": [],
   "source": [
    "def export_to_excel(df, file_name='output.xlsx', index=False):\n",
    "    \"\"\"\n",
    "    Exports a DataFrame to an Excel file.\n",
    "\n",
    "    Parameters:\n",
    "    - df (pd.DataFrame): The DataFrame to export.\n",
    "    - file_name (str): Name of the output Excel file.\n",
    "    - sheet_name (str): Name of the sheet in Excel.\n",
    "    - index (bool): Whether to include the DataFrame index.\n",
    "    \"\"\"\n",
    "    try:\n",
    "        df.to_excel(f'tables/{file_name}',  index=index)\n",
    "        print(f\"✅ Data exported successfully to '{file_name}'\")\n",
    "    except Exception as e:\n",
    "        print(f\"❌ Failed to export: {e}\")"
   ]
  },
  {
   "cell_type": "code",
   "execution_count": 3,
   "id": "7ba8fe90",
   "metadata": {},
   "outputs": [],
   "source": [
    "\n",
    "\n",
    "df = pd.read_excel(\"fact_downtime_.xlsx\")\n"
   ]
  },
  {
   "cell_type": "code",
   "execution_count": 4,
   "id": "4dc2b320",
   "metadata": {},
   "outputs": [],
   "source": [
    "df = df.dropna()\n",
    "\n"
   ]
  },
  {
   "cell_type": "markdown",
   "id": "42d99d6d",
   "metadata": {},
   "source": [
    "We have a data table that includes columns corresponding to dimension tables.  \n",
    "The goal is to:\n",
    "\n",
    "- Generate unique IDs using the `uuid` package.\n",
    "- Separate these columns into individual **dimension tables**.\n",
    "- Construct a **fact table** containing:\n",
    "  - The necessary features.\n",
    "  - The IDs of the associated dimension tables.\n",
    "\n",
    "**Example:**  \n",
    "The column `produit` would be processed by:\n",
    "- Generating a `product_id`.\n",
    "- Renaming `produit` to `product_name`.\n",
    "- Moving this information into a `product` dimension table.\n"
   ]
  },
  {
   "cell_type": "markdown",
   "id": "d95dc544",
   "metadata": {},
   "source": [
    "#### **dim manifact event**"
   ]
  },
  {
   "cell_type": "code",
   "execution_count": 5,
   "id": "ebf0abf5",
   "metadata": {},
   "outputs": [],
   "source": [
    "# Replacing 'Bosch' with 'BOSCH' in the 'Machinist' column\n",
    "df['Machinist'] = df['Machinist'].apply(lambda x: x.replace('Bosch', 'BOSCH') if isinstance(x, str) else x)\n"
   ]
  },
  {
   "cell_type": "code",
   "execution_count": 6,
   "id": "fc4433d0",
   "metadata": {},
   "outputs": [],
   "source": [
    "df['manufacturing_event_code'] = df['Machinist'].apply(lambda x: uuid.uuid5(uuid.NAMESPACE_DNS, str(x)))"
   ]
  },
  {
   "cell_type": "code",
   "execution_count": 7,
   "id": "211d77a5",
   "metadata": {},
   "outputs": [],
   "source": [
    "df.rename(columns={'Machinist': 'event_desc'}, inplace=True)"
   ]
  },
  {
   "cell_type": "code",
   "execution_count": 8,
   "id": "d2e4d30c",
   "metadata": {},
   "outputs": [],
   "source": [
    "dim_mani_event = df[['manufacturing_event_code','event_desc' ]].drop_duplicates().dropna()"
   ]
  },
  {
   "cell_type": "code",
   "execution_count": 9,
   "id": "cf8d7cd7",
   "metadata": {},
   "outputs": [
    {
     "name": "stdout",
     "output_type": "stream",
     "text": [
      "✅ Data exported successfully to 'dim_manifact_event.xlsx'\n"
     ]
    }
   ],
   "source": [
    "export_to_excel(dim_mani_event, 'dim_manifact_event.xlsx')"
   ]
  },
  {
   "cell_type": "markdown",
   "id": "8fa68266",
   "metadata": {},
   "source": [
    "#### **dim downtime**"
   ]
  },
  {
   "cell_type": "code",
   "execution_count": 10,
   "id": "f078bde9",
   "metadata": {},
   "outputs": [],
   "source": [
    "df['downtime_id'] = df['Type'].apply(lambda x: uuid.uuid5(uuid.NAMESPACE_DNS, str(x)) if pd.notnull(x) else None)"
   ]
  },
  {
   "cell_type": "code",
   "execution_count": 11,
   "id": "0fb42e6c",
   "metadata": {},
   "outputs": [],
   "source": [
    "df.rename(columns={'Type': 'downtime_reason'}, inplace=True)"
   ]
  },
  {
   "cell_type": "code",
   "execution_count": 12,
   "id": "a8661efa",
   "metadata": {},
   "outputs": [],
   "source": [
    "dim_downtime = df[['downtime_id', 'downtime_reason']].drop_duplicates().dropna()"
   ]
  },
  {
   "cell_type": "code",
   "execution_count": 13,
   "id": "d128b8f5",
   "metadata": {},
   "outputs": [
    {
     "name": "stdout",
     "output_type": "stream",
     "text": [
      "✅ Data exported successfully to 'dim_downtime.xlsx'\n"
     ]
    }
   ],
   "source": [
    "export_to_excel(dim_downtime, 'dim_downtime.xlsx')"
   ]
  },
  {
   "cell_type": "markdown",
   "id": "f698edc5",
   "metadata": {},
   "source": [
    "#### **dim event details**"
   ]
  },
  {
   "cell_type": "code",
   "execution_count": 14,
   "id": "8d54e9e5",
   "metadata": {},
   "outputs": [],
   "source": [
    "# manifact_event_details\n",
    "df.rename(columns={'ARRET ': 'manifact_event_details'}, inplace=True)"
   ]
  },
  {
   "cell_type": "code",
   "execution_count": 15,
   "id": "dfd0c52e",
   "metadata": {},
   "outputs": [],
   "source": [
    "df['event_details_id'] = df['manifact_event_details'].apply(lambda x: uuid.uuid5(uuid.NAMESPACE_DNS, str(x)) if pd.notnull(x) else None)"
   ]
  },
  {
   "cell_type": "code",
   "execution_count": 16,
   "id": "a1ab51b8",
   "metadata": {},
   "outputs": [],
   "source": [
    "dim_event_details = df[['event_details_id','manifact_event_details']].drop_duplicates().dropna()"
   ]
  },
  {
   "cell_type": "code",
   "execution_count": 17,
   "id": "4d1c8a3a",
   "metadata": {},
   "outputs": [
    {
     "name": "stdout",
     "output_type": "stream",
     "text": [
      "✅ Data exported successfully to 'dim_event_details.xlsx'\n"
     ]
    }
   ],
   "source": [
    "export_to_excel(dim_event_details, 'dim_event_details.xlsx')"
   ]
  },
  {
   "cell_type": "markdown",
   "id": "f8053ded",
   "metadata": {},
   "source": [
    "#### **dim wate declaration** "
   ]
  },
  {
   "cell_type": "code",
   "execution_count": 18,
   "id": "80076510",
   "metadata": {},
   "outputs": [],
   "source": [
    "## chargement fact waste data\n",
    "df1 = pd.read_excel(\"fact_waste_.xlsx\")\n"
   ]
  },
  {
   "cell_type": "code",
   "execution_count": 19,
   "id": "863a57f5",
   "metadata": {},
   "outputs": [],
   "source": [
    "df1 = df1.dropna()"
   ]
  },
  {
   "cell_type": "code",
   "execution_count": 20,
   "id": "698d5682",
   "metadata": {},
   "outputs": [],
   "source": [
    "df1['Déclaration Déchet'] = df1['Déclaration Déchet'].apply(\n",
    "    lambda x: x.strip().replace(':', '').upper() if isinstance(x, str) else x\n",
    ")\n"
   ]
  },
  {
   "cell_type": "code",
   "execution_count": 21,
   "id": "2d844d60",
   "metadata": {},
   "outputs": [],
   "source": [
    "df1['Déclaration Déchet'] = df1['Déclaration Déchet'].fillna('UNKNOWN')\n"
   ]
  },
  {
   "cell_type": "code",
   "execution_count": 22,
   "id": "8067acfd",
   "metadata": {},
   "outputs": [],
   "source": [
    "df1.rename(columns={'Déclaration Déchet': 'wate_declaration'}, inplace=True)"
   ]
  },
  {
   "cell_type": "code",
   "execution_count": 23,
   "id": "f0e07181",
   "metadata": {},
   "outputs": [],
   "source": [
    "df1['wate_declaration_id'] = df1['wate_declaration'].apply(lambda x: uuid.uuid5(uuid.NAMESPACE_DNS, str(x)) if pd.notnull(x) else None)"
   ]
  },
  {
   "cell_type": "code",
   "execution_count": 24,
   "id": "e8c1ac75",
   "metadata": {},
   "outputs": [],
   "source": [
    "dim_wate_dec = df1[['wate_declaration_id', 'wate_declaration']].drop_duplicates().dropna()"
   ]
  },
  {
   "cell_type": "code",
   "execution_count": 25,
   "id": "82b0cd0e",
   "metadata": {},
   "outputs": [
    {
     "name": "stdout",
     "output_type": "stream",
     "text": [
      "✅ Data exported successfully to 'dim_wate_declare.xlsx'\n"
     ]
    }
   ],
   "source": [
    "export_to_excel(dim_wate_dec, 'dim_wate_declare.xlsx')"
   ]
  },
  {
   "cell_type": "markdown",
   "id": "6f34eb58",
   "metadata": {},
   "source": [
    "### **dim product**"
   ]
  },
  {
   "cell_type": "code",
   "execution_count": 26,
   "id": "4827ffa7",
   "metadata": {},
   "outputs": [],
   "source": [
    "def split_product_name_id(val):\n",
    "    if pd.isnull(val):\n",
    "        return pd.Series([np.nan, np.nan])\n",
    "    parts = val.strip().rsplit(' ', 1)\n",
    "    if len(parts) == 2:\n",
    "        return pd.Series([parts[0].strip(), parts[1].strip()])\n",
    "    else:\n",
    "        return pd.Series([val.strip(), np.nan])\n",
    "\n",
    "# Apply function\n",
    "df[['product_name', 'product_id']] = df['Produit'].apply(split_product_name_id)"
   ]
  },
  {
   "cell_type": "code",
   "execution_count": 27,
   "id": "ee66048b",
   "metadata": {},
   "outputs": [],
   "source": [
    "df1[['product_name', 'product_id']] = df1['Produit'].apply(split_product_name_id)"
   ]
  },
  {
   "cell_type": "code",
   "execution_count": 28,
   "id": "19b734d2",
   "metadata": {},
   "outputs": [],
   "source": [
    "## chargement fact production performance\n",
    "df2 = pd.read_excel(\"fact_prod_.xlsx\")"
   ]
  },
  {
   "cell_type": "code",
   "execution_count": 29,
   "id": "4c2fdf23",
   "metadata": {},
   "outputs": [],
   "source": [
    "df2 = df2.dropna(subset=['Date'])"
   ]
  },
  {
   "cell_type": "code",
   "execution_count": 30,
   "id": "16e23bc1",
   "metadata": {},
   "outputs": [],
   "source": [
    "df2 = df2[df2['Produit'] != 120.192307692308]"
   ]
  },
  {
   "cell_type": "code",
   "execution_count": 31,
   "id": "0254a53f",
   "metadata": {},
   "outputs": [],
   "source": [
    "# df2[['product_name', 'product_id']] = df2['Produit'].apply(split_product_name_id)\n",
    "df2[['product_name', 'product_id']] = df1[['product_name', 'product_id']]"
   ]
  },
  {
   "cell_type": "code",
   "execution_count": 32,
   "id": "20f88220",
   "metadata": {},
   "outputs": [],
   "source": [
    "dim_product = df1[['product_name', 'product_id']].drop_duplicates().dropna()"
   ]
  },
  {
   "cell_type": "code",
   "execution_count": 33,
   "id": "e6ca3363",
   "metadata": {},
   "outputs": [
    {
     "name": "stdout",
     "output_type": "stream",
     "text": [
      "✅ Data exported successfully to 'dim_product.xlsx'\n"
     ]
    }
   ],
   "source": [
    "export_to_excel(dim_product, 'dim_product.xlsx')"
   ]
  },
  {
   "cell_type": "markdown",
   "id": "b7077808",
   "metadata": {},
   "source": [
    "### **dim leader**"
   ]
  },
  {
   "cell_type": "code",
   "execution_count": 34,
   "id": "9cfd11f8",
   "metadata": {},
   "outputs": [],
   "source": [
    "df.rename(columns={'Chef d\\'equipe': 'leader_name'}, inplace=True)"
   ]
  },
  {
   "cell_type": "code",
   "execution_count": 35,
   "id": "938feab3",
   "metadata": {},
   "outputs": [],
   "source": [
    "df['leader_id'] = df['leader_name'].apply(lambda x: uuid.uuid5(uuid.NAMESPACE_DNS, str(x)) if pd.notnull(x) else None)"
   ]
  },
  {
   "cell_type": "code",
   "execution_count": 36,
   "id": "5d9e7c10",
   "metadata": {},
   "outputs": [],
   "source": [
    "df1.rename(columns={'Chef d\\'equipe': 'leader_name'}, inplace=True)"
   ]
  },
  {
   "cell_type": "code",
   "execution_count": 37,
   "id": "4e4f9e9f",
   "metadata": {},
   "outputs": [],
   "source": [
    "df1['leader_id'] = df1['leader_name'].apply(lambda x: uuid.uuid5(uuid.NAMESPACE_DNS, str(x)) if pd.notnull(x) else None)"
   ]
  },
  {
   "cell_type": "code",
   "execution_count": 38,
   "id": "28b60b78",
   "metadata": {},
   "outputs": [],
   "source": [
    "df2.rename(columns={'Chef d\\'equipe': 'leader_name'}, inplace=True)"
   ]
  },
  {
   "cell_type": "code",
   "execution_count": 39,
   "id": "7a2c5ace",
   "metadata": {},
   "outputs": [],
   "source": [
    "df2['leader_id'] = df2['leader_name'].apply(lambda x: uuid.uuid5(uuid.NAMESPACE_DNS, str(x)) if pd.notnull(x) else None)"
   ]
  },
  {
   "cell_type": "code",
   "execution_count": 40,
   "id": "72b22872",
   "metadata": {},
   "outputs": [],
   "source": [
    "dim_leader = df[['leader_id', 'leader_name']].drop_duplicates().dropna()"
   ]
  },
  {
   "cell_type": "code",
   "execution_count": 41,
   "id": "a0810b88",
   "metadata": {},
   "outputs": [
    {
     "name": "stdout",
     "output_type": "stream",
     "text": [
      "✅ Data exported successfully to 'dim_leader.xlsx'\n"
     ]
    }
   ],
   "source": [
    "export_to_excel(dim_leader, 'dim_leader.xlsx')"
   ]
  },
  {
   "cell_type": "markdown",
   "id": "16c85473",
   "metadata": {},
   "source": [
    "### **dim group**"
   ]
  },
  {
   "cell_type": "code",
   "execution_count": 42,
   "id": "44db1389",
   "metadata": {},
   "outputs": [],
   "source": [
    "df.rename(columns={'N° Groupe ': 'group_num'}, inplace=True)\n",
    "df1.rename(columns={'N° Groupe ': 'group_num'}, inplace=True)\n",
    "df2.rename(columns={'N° Groupe ': 'group_num'}, inplace=True)"
   ]
  },
  {
   "cell_type": "code",
   "execution_count": 43,
   "id": "fd4dd6cf",
   "metadata": {},
   "outputs": [],
   "source": [
    "dim_group = df['group_num'].drop_duplicates().dropna()"
   ]
  },
  {
   "cell_type": "code",
   "execution_count": 44,
   "id": "2dc6f24c",
   "metadata": {},
   "outputs": [
    {
     "name": "stdout",
     "output_type": "stream",
     "text": [
      "✅ Data exported successfully to 'dim_group.xlsx'\n"
     ]
    }
   ],
   "source": [
    "export_to_excel(dim_group, 'dim_group.xlsx')"
   ]
  },
  {
   "cell_type": "markdown",
   "id": "aa4e6fbd",
   "metadata": {},
   "source": [
    "### **dim date**"
   ]
  },
  {
   "cell_type": "code",
   "execution_count": 45,
   "id": "f2d2d9c7",
   "metadata": {},
   "outputs": [],
   "source": [
    "dim_date = df[['Date', 'N° SEMAINE']].drop_duplicates().dropna()"
   ]
  },
  {
   "cell_type": "code",
   "execution_count": 46,
   "id": "df37c4b0",
   "metadata": {},
   "outputs": [],
   "source": [
    "dim_date = dim_date.dropna()\n",
    "dim_date = dim_date.drop(columns='N° SEMAINE')"
   ]
  },
  {
   "cell_type": "code",
   "execution_count": 47,
   "id": "11555e7e",
   "metadata": {},
   "outputs": [],
   "source": [
    "dim_date = dim_date.drop_duplicates()"
   ]
  },
  {
   "cell_type": "code",
   "execution_count": 48,
   "id": "f6603909",
   "metadata": {},
   "outputs": [],
   "source": [
    "dim_date.reset_index(drop=True, inplace=True)\n"
   ]
  },
  {
   "cell_type": "code",
   "execution_count": 49,
   "id": "fef3704f",
   "metadata": {},
   "outputs": [
    {
     "name": "stdout",
     "output_type": "stream",
     "text": [
      "✅ Data exported successfully to 'dim_date1.xlsx'\n"
     ]
    }
   ],
   "source": [
    "export_to_excel(dim_date, 'dim_date1.xlsx')"
   ]
  },
  {
   "cell_type": "markdown",
   "id": "d27fbe8c",
   "metadata": {},
   "source": [
    "### **Fact_ProductionPerformance**"
   ]
  },
  {
   "cell_type": "code",
   "execution_count": 50,
   "id": "33c19c35",
   "metadata": {},
   "outputs": [
    {
     "data": {
      "text/html": [
       "<div>\n",
       "<style scoped>\n",
       "    .dataframe tbody tr th:only-of-type {\n",
       "        vertical-align: middle;\n",
       "    }\n",
       "\n",
       "    .dataframe tbody tr th {\n",
       "        vertical-align: top;\n",
       "    }\n",
       "\n",
       "    .dataframe thead th {\n",
       "        text-align: right;\n",
       "    }\n",
       "</style>\n",
       "<table border=\"1\" class=\"dataframe\">\n",
       "  <thead>\n",
       "    <tr style=\"text-align: right;\">\n",
       "      <th></th>\n",
       "      <th>(+ / -) Objectife</th>\n",
       "      <th>Déchet  Mnt)</th>\n",
       "      <th>Pourcentage Déchet</th>\n",
       "      <th>Pourcentage Arret</th>\n",
       "      <th>Pourcentage PDP</th>\n",
       "      <th>Pourcentage Pf</th>\n",
       "      <th>PF  %</th>\n",
       "      <th>Temps arret</th>\n",
       "      <th>Temps arret PRG</th>\n",
       "      <th>Cadence = Four</th>\n",
       "      <th>Date</th>\n",
       "      <th>group_num</th>\n",
       "      <th>Objectife</th>\n",
       "      <th>PDP</th>\n",
       "      <th>Production</th>\n",
       "      <th>Temps Service PF</th>\n",
       "      <th>leader_id</th>\n",
       "      <th>TRS</th>\n",
       "      <th>product_id</th>\n",
       "    </tr>\n",
       "  </thead>\n",
       "  <tbody>\n",
       "    <tr>\n",
       "      <th>0</th>\n",
       "      <td>-768.0</td>\n",
       "      <td>10.774411</td>\n",
       "      <td>0.022447</td>\n",
       "      <td>0.479167</td>\n",
       "      <td>0.573333</td>\n",
       "      <td>0.501613</td>\n",
       "      <td>0.477778</td>\n",
       "      <td>230.0</td>\n",
       "      <td>10.0</td>\n",
       "      <td>4.5</td>\n",
       "      <td>2025-01-06</td>\n",
       "      <td>2  -  A</td>\n",
       "      <td>1800.0</td>\n",
       "      <td>1800.0</td>\n",
       "      <td>1032</td>\n",
       "      <td>229.333333</td>\n",
       "      <td>9fb5796f-3013-5b23-998b-64be172e644a</td>\n",
       "      <td>2160</td>\n",
       "      <td>PFBS16K00054</td>\n",
       "    </tr>\n",
       "    <tr>\n",
       "      <th>1</th>\n",
       "      <td>-188.0</td>\n",
       "      <td>19.865320</td>\n",
       "      <td>0.041386</td>\n",
       "      <td>0.191667</td>\n",
       "      <td>0.895556</td>\n",
       "      <td>0.233053</td>\n",
       "      <td>0.746296</td>\n",
       "      <td>92.0</td>\n",
       "      <td>10.0</td>\n",
       "      <td>4.5</td>\n",
       "      <td>2025-01-06</td>\n",
       "      <td>3  -  B</td>\n",
       "      <td>1800.0</td>\n",
       "      <td>1800.0</td>\n",
       "      <td>1612</td>\n",
       "      <td>358.222222</td>\n",
       "      <td>32d8b501-5b38-5767-b8b9-43b50754b34f</td>\n",
       "      <td>2160</td>\n",
       "      <td>PFBS16K00054</td>\n",
       "    </tr>\n",
       "    <tr>\n",
       "      <th>2</th>\n",
       "      <td>6.0</td>\n",
       "      <td>15.656566</td>\n",
       "      <td>0.032618</td>\n",
       "      <td>0.110417</td>\n",
       "      <td>1.003333</td>\n",
       "      <td>0.143035</td>\n",
       "      <td>0.836111</td>\n",
       "      <td>53.0</td>\n",
       "      <td>10.0</td>\n",
       "      <td>4.5</td>\n",
       "      <td>2025-01-07</td>\n",
       "      <td>1  -  C</td>\n",
       "      <td>1800.0</td>\n",
       "      <td>1800.0</td>\n",
       "      <td>1806</td>\n",
       "      <td>401.333333</td>\n",
       "      <td>c59267b5-cd00-5b22-9bcf-814b089b95e2</td>\n",
       "      <td>2160</td>\n",
       "      <td>PFBS16K00054</td>\n",
       "    </tr>\n",
       "    <tr>\n",
       "      <th>3</th>\n",
       "      <td>-451.0</td>\n",
       "      <td>18.181818</td>\n",
       "      <td>0.037879</td>\n",
       "      <td>0.316667</td>\n",
       "      <td>0.167917</td>\n",
       "      <td>0.354545</td>\n",
       "      <td>0.624537</td>\n",
       "      <td>152.0</td>\n",
       "      <td>10.0</td>\n",
       "      <td>4.5</td>\n",
       "      <td>2025-01-07</td>\n",
       "      <td>2  -  A</td>\n",
       "      <td>1800.0</td>\n",
       "      <td>7200.0</td>\n",
       "      <td>1209</td>\n",
       "      <td>299.777778</td>\n",
       "      <td>e93f01c3-5a4c-584b-a3ca-5fec227000f5</td>\n",
       "      <td>2160</td>\n",
       "      <td>PFBS16K00054</td>\n",
       "    </tr>\n",
       "    <tr>\n",
       "      <th>4</th>\n",
       "      <td>-555.0</td>\n",
       "      <td>10.606061</td>\n",
       "      <td>0.022096</td>\n",
       "      <td>0.381250</td>\n",
       "      <td>0.691667</td>\n",
       "      <td>0.403346</td>\n",
       "      <td>0.576389</td>\n",
       "      <td>183.0</td>\n",
       "      <td>10.0</td>\n",
       "      <td>4.5</td>\n",
       "      <td>2025-01-07</td>\n",
       "      <td>3  -  B</td>\n",
       "      <td>1800.0</td>\n",
       "      <td>1800.0</td>\n",
       "      <td>1245</td>\n",
       "      <td>276.666667</td>\n",
       "      <td>9fb5796f-3013-5b23-998b-64be172e644a</td>\n",
       "      <td>2160</td>\n",
       "      <td>PFBS16K00054</td>\n",
       "    </tr>\n",
       "  </tbody>\n",
       "</table>\n",
       "</div>"
      ],
      "text/plain": [
       "   (+ / -) Objectife  Déchet  Mnt)  Pourcentage Déchet  Pourcentage Arret  \\\n",
       "0             -768.0     10.774411            0.022447           0.479167   \n",
       "1             -188.0     19.865320            0.041386           0.191667   \n",
       "2                6.0     15.656566            0.032618           0.110417   \n",
       "3             -451.0     18.181818            0.037879           0.316667   \n",
       "4             -555.0     10.606061            0.022096           0.381250   \n",
       "\n",
       "   Pourcentage PDP  Pourcentage Pf     PF  %  Temps arret  Temps arret PRG  \\\n",
       "0         0.573333        0.501613  0.477778        230.0             10.0   \n",
       "1         0.895556        0.233053  0.746296         92.0             10.0   \n",
       "2         1.003333        0.143035  0.836111         53.0             10.0   \n",
       "3         0.167917        0.354545  0.624537        152.0             10.0   \n",
       "4         0.691667        0.403346  0.576389        183.0             10.0   \n",
       "\n",
       "   Cadence = Four       Date group_num  Objectife     PDP  Production  \\\n",
       "0             4.5 2025-01-06   2  -  A     1800.0  1800.0        1032   \n",
       "1             4.5 2025-01-06   3  -  B     1800.0  1800.0        1612   \n",
       "2             4.5 2025-01-07   1  -  C     1800.0  1800.0        1806   \n",
       "3             4.5 2025-01-07   2  -  A     1800.0  7200.0        1209   \n",
       "4             4.5 2025-01-07   3  -  B     1800.0  1800.0        1245   \n",
       "\n",
       "   Temps Service PF                             leader_id   TRS    product_id  \n",
       "0        229.333333  9fb5796f-3013-5b23-998b-64be172e644a  2160  PFBS16K00054  \n",
       "1        358.222222  32d8b501-5b38-5767-b8b9-43b50754b34f  2160  PFBS16K00054  \n",
       "2        401.333333  c59267b5-cd00-5b22-9bcf-814b089b95e2  2160  PFBS16K00054  \n",
       "3        299.777778  e93f01c3-5a4c-584b-a3ca-5fec227000f5  2160  PFBS16K00054  \n",
       "4        276.666667  9fb5796f-3013-5b23-998b-64be172e644a  2160  PFBS16K00054  "
      ]
     },
     "execution_count": 50,
     "metadata": {},
     "output_type": "execute_result"
    }
   ],
   "source": [
    "columns_to_select = [\n",
    "    '(+ / -) Objectife',        # Column related to Objectif\n",
    "    'Déchet  Mnt)',             # Column related to Waste\n",
    "    'Pourcentage Déchet',\n",
    "    'Pourcentage Arret',\n",
    "    'Pourcentage PDP',\n",
    "    'Pourcentage Pf',\n",
    "    ' PF  %',\n",
    "    'Temps arret',              # Column related to Downtime\n",
    "    'Temps arret PRG',          # Column related to Programmed Downtime\n",
    "    'Cadence = Four',           # Column related to Cadence\n",
    "    'Date',                     # Date column\n",
    "    'group_num',             #n ggroupe\n",
    "    'Objectife',                # Objectif column\n",
    "    'PDP',                      # PDP column\n",
    "    'Production',               # Production column\n",
    "    'Temps Service PF',         # Service time PF column\n",
    "    'leader_id',              # Teamleader column\n",
    "    'TRS',                      # TRS column\n",
    "    'product_id'                # Product ID column\n",
    "]\n",
    "\n",
    "fact_production = df2[columns_to_select]\n",
    "fact_production.head()\n"
   ]
  },
  {
   "cell_type": "code",
   "execution_count": 51,
   "id": "591d1034",
   "metadata": {},
   "outputs": [
    {
     "name": "stdout",
     "output_type": "stream",
     "text": [
      "✅ Data exported successfully to 'fact_production.xlsx'\n"
     ]
    }
   ],
   "source": [
    "export_to_excel(fact_production, 'fact_production.xlsx')"
   ]
  },
  {
   "cell_type": "markdown",
   "id": "90a914ec",
   "metadata": {},
   "source": [
    "### **Fact Waste**"
   ]
  },
  {
   "cell_type": "code",
   "execution_count": 52,
   "id": "1bb70abe",
   "metadata": {},
   "outputs": [
    {
     "data": {
      "text/html": [
       "<div>\n",
       "<style scoped>\n",
       "    .dataframe tbody tr th:only-of-type {\n",
       "        vertical-align: middle;\n",
       "    }\n",
       "\n",
       "    .dataframe tbody tr th {\n",
       "        vertical-align: top;\n",
       "    }\n",
       "\n",
       "    .dataframe thead th {\n",
       "        text-align: right;\n",
       "    }\n",
       "</style>\n",
       "<table border=\"1\" class=\"dataframe\">\n",
       "  <thead>\n",
       "    <tr style=\"text-align: right;\">\n",
       "      <th></th>\n",
       "      <th>Date</th>\n",
       "      <th>Dechet %</th>\n",
       "      <th>Kg</th>\n",
       "      <th>group_num</th>\n",
       "      <th>product_id</th>\n",
       "      <th>leader_id</th>\n",
       "      <th>wate_declaration_id</th>\n",
       "    </tr>\n",
       "  </thead>\n",
       "  <tbody>\n",
       "    <tr>\n",
       "      <th>0</th>\n",
       "      <td>2025-01-06</td>\n",
       "      <td>0.000547</td>\n",
       "      <td>8</td>\n",
       "      <td>2  -  A</td>\n",
       "      <td>PFBS16K00054</td>\n",
       "      <td>9fb5796f-3013-5b23-998b-64be172e644a</td>\n",
       "      <td>00001151-cf1b-580f-bb3d-ec6a91b8528e</td>\n",
       "    </tr>\n",
       "    <tr>\n",
       "      <th>1</th>\n",
       "      <td>2025-01-06</td>\n",
       "      <td>0.013687</td>\n",
       "      <td>200</td>\n",
       "      <td>2  -  A</td>\n",
       "      <td>PFBS16K00054</td>\n",
       "      <td>9fb5796f-3013-5b23-998b-64be172e644a</td>\n",
       "      <td>9623a13d-aedf-5d55-9df3-b405f5e860f9</td>\n",
       "    </tr>\n",
       "    <tr>\n",
       "      <th>2</th>\n",
       "      <td>2025-01-06</td>\n",
       "      <td>0.005475</td>\n",
       "      <td>80</td>\n",
       "      <td>2  -  A</td>\n",
       "      <td>PFBS16K00054</td>\n",
       "      <td>9fb5796f-3013-5b23-998b-64be172e644a</td>\n",
       "      <td>476f6d60-5f97-54ab-b6c9-87a1217bd8d7</td>\n",
       "    </tr>\n",
       "    <tr>\n",
       "      <th>3</th>\n",
       "      <td>2025-01-06</td>\n",
       "      <td>0.002737</td>\n",
       "      <td>40</td>\n",
       "      <td>2  -  A</td>\n",
       "      <td>PFBS16K00054</td>\n",
       "      <td>9fb5796f-3013-5b23-998b-64be172e644a</td>\n",
       "      <td>f4dda7fb-97c7-503d-af34-de0b8f015757</td>\n",
       "    </tr>\n",
       "    <tr>\n",
       "      <th>4</th>\n",
       "      <td>2025-01-06</td>\n",
       "      <td>0.000622</td>\n",
       "      <td>9</td>\n",
       "      <td>3  -  B</td>\n",
       "      <td>PFBS16K00054</td>\n",
       "      <td>32d8b501-5b38-5767-b8b9-43b50754b34f</td>\n",
       "      <td>00001151-cf1b-580f-bb3d-ec6a91b8528e</td>\n",
       "    </tr>\n",
       "  </tbody>\n",
       "</table>\n",
       "</div>"
      ],
      "text/plain": [
       "        Date  Dechet %   Kg group_num    product_id  \\\n",
       "0 2025-01-06  0.000547    8   2  -  A  PFBS16K00054   \n",
       "1 2025-01-06  0.013687  200   2  -  A  PFBS16K00054   \n",
       "2 2025-01-06  0.005475   80   2  -  A  PFBS16K00054   \n",
       "3 2025-01-06  0.002737   40   2  -  A  PFBS16K00054   \n",
       "4 2025-01-06  0.000622    9   3  -  B  PFBS16K00054   \n",
       "\n",
       "                              leader_id                   wate_declaration_id  \n",
       "0  9fb5796f-3013-5b23-998b-64be172e644a  00001151-cf1b-580f-bb3d-ec6a91b8528e  \n",
       "1  9fb5796f-3013-5b23-998b-64be172e644a  9623a13d-aedf-5d55-9df3-b405f5e860f9  \n",
       "2  9fb5796f-3013-5b23-998b-64be172e644a  476f6d60-5f97-54ab-b6c9-87a1217bd8d7  \n",
       "3  9fb5796f-3013-5b23-998b-64be172e644a  f4dda7fb-97c7-503d-af34-de0b8f015757  \n",
       "4  32d8b501-5b38-5767-b8b9-43b50754b34f  00001151-cf1b-580f-bb3d-ec6a91b8528e  "
      ]
     },
     "execution_count": 52,
     "metadata": {},
     "output_type": "execute_result"
    }
   ],
   "source": [
    "\n",
    "columns_to_select_waste = [\n",
    "    'Date',                 # Date column\n",
    "    'Dechet %',             # Dechet % column\n",
    "    'Kg',                   # Kg column\n",
    "    'group_num',            # N° Groupe column\n",
    "    'product_id',              # Produit column\n",
    "    'leader_id' ,       # Chef d'équipe column (using leader_id)\n",
    "    'wate_declaration_id',     # Déclaration Déchet column\n",
    "]\n",
    "\n",
    "\n",
    "df_fact_waste = df1[columns_to_select_waste]\n",
    "df_fact_waste.head()\n"
   ]
  },
  {
   "cell_type": "code",
   "execution_count": 53,
   "id": "bb6ff6a6",
   "metadata": {},
   "outputs": [
    {
     "name": "stdout",
     "output_type": "stream",
     "text": [
      "✅ Data exported successfully to 'fact_waste.xlsx'\n"
     ]
    }
   ],
   "source": [
    "export_to_excel(df_fact_waste, 'fact_waste.xlsx')"
   ]
  },
  {
   "cell_type": "markdown",
   "id": "e965998a",
   "metadata": {},
   "source": [
    "### **Fact downtime**"
   ]
  },
  {
   "cell_type": "code",
   "execution_count": 54,
   "id": "acf7aec9",
   "metadata": {},
   "outputs": [
    {
     "data": {
      "text/html": [
       "<div>\n",
       "<style scoped>\n",
       "    .dataframe tbody tr th:only-of-type {\n",
       "        vertical-align: middle;\n",
       "    }\n",
       "\n",
       "    .dataframe tbody tr th {\n",
       "        vertical-align: top;\n",
       "    }\n",
       "\n",
       "    .dataframe thead th {\n",
       "        text-align: right;\n",
       "    }\n",
       "</style>\n",
       "<table border=\"1\" class=\"dataframe\">\n",
       "  <thead>\n",
       "    <tr style=\"text-align: right;\">\n",
       "      <th></th>\n",
       "      <th>Date</th>\n",
       "      <th>Déclaration arret</th>\n",
       "      <th>group_num</th>\n",
       "      <th>leader_id</th>\n",
       "      <th>product_id</th>\n",
       "      <th>manufacturing_event_code</th>\n",
       "    </tr>\n",
       "  </thead>\n",
       "  <tbody>\n",
       "    <tr>\n",
       "      <th>0</th>\n",
       "      <td>2025-01-06</td>\n",
       "      <td>103 Préparation de la ligne au démarrage</td>\n",
       "      <td>2  -  A</td>\n",
       "      <td>9fb5796f-3013-5b23-998b-64be172e644a</td>\n",
       "      <td>PFBS16K00054</td>\n",
       "      <td>b6819935-b4e2-55b7-a0da-2c988ff1fa54</td>\n",
       "    </tr>\n",
       "    <tr>\n",
       "      <th>1</th>\n",
       "      <td>2025-01-06</td>\n",
       "      <td>521 Four mixte FIB 1.5×52</td>\n",
       "      <td>2  -  A</td>\n",
       "      <td>9fb5796f-3013-5b23-998b-64be172e644a</td>\n",
       "      <td>PFBS16K00054</td>\n",
       "      <td>0056e7ba-998c-5e0a-af87-177bdaa61d04</td>\n",
       "    </tr>\n",
       "    <tr>\n",
       "      <th>2</th>\n",
       "      <td>2025-01-06</td>\n",
       "      <td>526 Classeur de biscuit</td>\n",
       "      <td>2  -  A</td>\n",
       "      <td>9fb5796f-3013-5b23-998b-64be172e644a</td>\n",
       "      <td>PFBS16K00054</td>\n",
       "      <td>756b4c0f-c6e3-572c-aa1f-5f62b6425ce6</td>\n",
       "    </tr>\n",
       "    <tr>\n",
       "      <th>3</th>\n",
       "      <td>2025-01-06</td>\n",
       "      <td>511 Arrêt technique enveloppeuse</td>\n",
       "      <td>2  -  A</td>\n",
       "      <td>9fb5796f-3013-5b23-998b-64be172e644a</td>\n",
       "      <td>PFBS16K00054</td>\n",
       "      <td>81b7a44c-51fa-5cc9-a5b1-d7ba169dea69</td>\n",
       "    </tr>\n",
       "    <tr>\n",
       "      <th>4</th>\n",
       "      <td>2025-01-06</td>\n",
       "      <td>103 Préparation de la ligne au démarrage</td>\n",
       "      <td>3  -  B</td>\n",
       "      <td>32d8b501-5b38-5767-b8b9-43b50754b34f</td>\n",
       "      <td>PFBS16K00054</td>\n",
       "      <td>b6819935-b4e2-55b7-a0da-2c988ff1fa54</td>\n",
       "    </tr>\n",
       "  </tbody>\n",
       "</table>\n",
       "</div>"
      ],
      "text/plain": [
       "        Date                         Déclaration arret group_num  \\\n",
       "0 2025-01-06  103 Préparation de la ligne au démarrage   2  -  A   \n",
       "1 2025-01-06                 521 Four mixte FIB 1.5×52   2  -  A   \n",
       "2 2025-01-06                   526 Classeur de biscuit   2  -  A   \n",
       "3 2025-01-06          511 Arrêt technique enveloppeuse   2  -  A   \n",
       "4 2025-01-06  103 Préparation de la ligne au démarrage   3  -  B   \n",
       "\n",
       "                              leader_id    product_id  \\\n",
       "0  9fb5796f-3013-5b23-998b-64be172e644a  PFBS16K00054   \n",
       "1  9fb5796f-3013-5b23-998b-64be172e644a  PFBS16K00054   \n",
       "2  9fb5796f-3013-5b23-998b-64be172e644a  PFBS16K00054   \n",
       "3  9fb5796f-3013-5b23-998b-64be172e644a  PFBS16K00054   \n",
       "4  32d8b501-5b38-5767-b8b9-43b50754b34f  PFBS16K00054   \n",
       "\n",
       "               manufacturing_event_code  \n",
       "0  b6819935-b4e2-55b7-a0da-2c988ff1fa54  \n",
       "1  0056e7ba-998c-5e0a-af87-177bdaa61d04  \n",
       "2  756b4c0f-c6e3-572c-aa1f-5f62b6425ce6  \n",
       "3  81b7a44c-51fa-5cc9-a5b1-d7ba169dea69  \n",
       "4  b6819935-b4e2-55b7-a0da-2c988ff1fa54  "
      ]
     },
     "execution_count": 54,
     "metadata": {},
     "output_type": "execute_result"
    }
   ],
   "source": [
    "columns_to_select_downtime = [\n",
    "    'Date',                  # Date column\n",
    "    'Déclaration arret',     # Downtime declaration (Déclaration arret)\n",
    "    'group_num',             # Groupe Name (group_num)\n",
    "    'leader_id',           # Machinist (leader_name)\n",
    "    'product_id',               # Product (Produit)                 \n",
    "    'manufacturing_event_code'             # Type (event_desc)\n",
    "]\n",
    "\n",
    "\n",
    "df_fact_downtime = df[columns_to_select_downtime]\n",
    "\n",
    "\n",
    "df_fact_downtime.head()\n"
   ]
  },
  {
   "cell_type": "code",
   "execution_count": 55,
   "id": "79e2b4c3",
   "metadata": {},
   "outputs": [
    {
     "name": "stdout",
     "output_type": "stream",
     "text": [
      "✅ Data exported successfully to 'fact_downtime.xlsx'\n"
     ]
    }
   ],
   "source": [
    "export_to_excel(df_fact_downtime, 'fact_downtime.xlsx')"
   ]
  },
  {
   "cell_type": "markdown",
   "id": "8ea050ae",
   "metadata": {},
   "source": [
    "### **exporting tables**"
   ]
  },
  {
   "cell_type": "code",
   "execution_count": 56,
   "id": "8d9e4028",
   "metadata": {},
   "outputs": [
    {
     "name": "stdout",
     "output_type": "stream",
     "text": [
      "✅ Data exported successfully to 'fact_downtime_.xlsx'\n",
      "✅ Data exported successfully to 'fact_waste_.xlsx'\n",
      "✅ Data exported successfully to 'fact_prod_.xlsx'\n"
     ]
    }
   ],
   "source": [
    "export_to_excel(df, 'fact_downtime_.xlsx')\n",
    "export_to_excel(df1, 'fact_waste_.xlsx')\n",
    "export_to_excel(df2, 'fact_prod_.xlsx')"
   ]
  }
 ],
 "metadata": {
  "kernelspec": {
   "display_name": "Python 3",
   "language": "python",
   "name": "python3"
  },
  "language_info": {
   "codemirror_mode": {
    "name": "ipython",
    "version": 3
   },
   "file_extension": ".py",
   "mimetype": "text/x-python",
   "name": "python",
   "nbconvert_exporter": "python",
   "pygments_lexer": "ipython3",
   "version": "3.12.5"
  }
 },
 "nbformat": 4,
 "nbformat_minor": 5
}
